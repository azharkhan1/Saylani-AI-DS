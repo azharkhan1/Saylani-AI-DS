{
 "cells": [
  {
   "cell_type": "code",
   "execution_count": 2,
   "metadata": {},
   "outputs": [
    {
     "data": {
      "text/plain": [
       "[{'items': [1, 2, 3, 4], 'price': [11, 22, 33, 44]},\n",
       " {'students': ['A', 'B', 'C', 'D'], 'RollNum': [124, 325, 1235, 128]}]"
      ]
     },
     "execution_count": 2,
     "metadata": {},
     "output_type": "execute_result"
    }
   ],
   "source": [
    "aListOfDict = [ {\"items\":[1,2,3,4],\"price\":[11,22,33,44]},\n",
    "               {\"students\":[\"A\",\"B\",\"C\",\"D\"],\"RollNum\":[124,325,1235,128]}\n",
    "]\n",
    "aListOfDict"
   ]
  },
  {
   "cell_type": "code",
   "execution_count": 3,
   "metadata": {},
   "outputs": [
    {
     "data": {
      "text/plain": [
       "{'items': [1, 2, 3, 4], 'price': [11, 22, 33, 44]}"
      ]
     },
     "execution_count": 3,
     "metadata": {},
     "output_type": "execute_result"
    }
   ],
   "source": [
    "aListOfDict[0]"
   ]
  },
  {
   "cell_type": "code",
   "execution_count": 8,
   "metadata": {},
   "outputs": [
    {
     "data": {
      "text/plain": [
       "325"
      ]
     },
     "execution_count": 8,
     "metadata": {},
     "output_type": "execute_result"
    }
   ],
   "source": [
    "aListOfDict[1][\"RollNum\"][1]"
   ]
  },
  {
   "cell_type": "code",
   "execution_count": 11,
   "metadata": {},
   "outputs": [
    {
     "name": "stdout",
     "output_type": "stream",
     "text": [
      "{'items': [1, 2, 3, 4], 'price': [11, 22, 33, 44]}\n",
      "{'students': ['A', 'B', 'C', 'D'], 'RollNum': [124, 325, 1235, 128]}\n"
     ]
    }
   ],
   "source": [
    "for list in aListOfDict:\n",
    "    print(list)"
   ]
  },
  {
   "cell_type": "code",
   "execution_count": 13,
   "metadata": {},
   "outputs": [
    {
     "name": "stdout",
     "output_type": "stream",
     "text": [
      "124\n",
      "325\n",
      "1235\n",
      "128\n"
     ]
    }
   ],
   "source": [
    "for member in range(len(aListOfDict)):\n",
    "    if \"RollNum\" in aListOfDict[member]:\n",
    "        for roll in aListOfDict[member][\"RollNum\"]:\n",
    "            print(roll)"
   ]
  },
  {
   "cell_type": "code",
   "execution_count": 36,
   "metadata": {},
   "outputs": [],
   "source": [
    "aliens = []\n",
    "for alien_number in range(30):\n",
    "    new_alien = {\"color\":\"green\" , \"points\":30 , \"speed\" : \"slow\"}\n",
    "    aliens.append(new_alien)\n"
   ]
  },
  {
   "cell_type": "code",
   "execution_count": 37,
   "metadata": {},
   "outputs": [
    {
     "name": "stdout",
     "output_type": "stream",
     "text": [
      "{'color': 'green', 'points': 30, 'speed': 'slow'}\n",
      "{'color': 'green', 'points': 30, 'speed': 'slow'}\n",
      "{'color': 'green', 'points': 30, 'speed': 'slow'}\n",
      "{'color': 'green', 'points': 30, 'speed': 'slow'}\n",
      "{'color': 'green', 'points': 30, 'speed': 'slow'}\n"
     ]
    }
   ],
   "source": [
    "for alien in aliens[:5]:\n",
    "    print(alien)"
   ]
  },
  {
   "cell_type": "code",
   "execution_count": 39,
   "metadata": {},
   "outputs": [
    {
     "name": "stdout",
     "output_type": "stream",
     "text": [
      "total number of aliens are: 30\n"
     ]
    }
   ],
   "source": [
    "print(\"total number of aliens are: \" + str(len(aliens)))"
   ]
  },
  {
   "cell_type": "code",
   "execution_count": 38,
   "metadata": {},
   "outputs": [
    {
     "name": "stdout",
     "output_type": "stream",
     "text": [
      "{'color': 'yellow', 'points': 10, 'speed': 'medium'}\n",
      "{'color': 'yellow', 'points': 10, 'speed': 'medium'}\n",
      "{'color': 'yellow', 'points': 10, 'speed': 'medium'}\n"
     ]
    }
   ],
   "source": [
    "for alien in aliens[0:3]:\n",
    "    if alien[\"color\"] == \"green\":\n",
    "        alien[\"color\"] = \"yellow\"\n",
    "        alien[\"speed\"] = \"medium\"\n",
    "        alien[\"points\"] = 10\n",
    "    print(alien)"
   ]
  },
  {
   "cell_type": "code",
   "execution_count": 43,
   "metadata": {},
   "outputs": [
    {
     "name": "stdout",
     "output_type": "stream",
     "text": [
      "{'color': 'kala', 'points': 12309, 'speed': 'dhamakedar'}\n",
      "{'color': 'kala', 'points': 12309, 'speed': 'dhamakedar'}\n",
      "{'color': 'kala', 'points': 12309, 'speed': 'dhamakedar'}\n"
     ]
    }
   ],
   "source": [
    "for alien in aliens[0:3]:\n",
    "    if alien[\"color\"] == \"green\":\n",
    "        alien[\"color\"] = \"yellow\"\n",
    "        alien[\"speed\"] = \"medium\"\n",
    "        alien[\"points\"] = 10\n",
    "    elif alien[\"color\"] == \"yellow\":\n",
    "        alien[\"color\"] = \"kala\"\n",
    "        alien[\"speed\"] = \"dhamakedar\"\n",
    "        alien[\"points\"] = 12309\n",
    "    print(alien)\n",
    "            "
   ]
  },
  {
   "cell_type": "markdown",
   "metadata": {},
   "source": [
    "# A dictionary in dictionary :"
   ]
  },
  {
   "cell_type": "code",
   "execution_count": 44,
   "metadata": {},
   "outputs": [
    {
     "data": {
      "text/plain": [
       "{'crust': 'thick', 'toppings': ['mushrooms', 'extra cheese']}"
      ]
     },
     "execution_count": 44,
     "metadata": {},
     "output_type": "execute_result"
    }
   ],
   "source": [
    "pizza = {\n",
    "    \"crust\" : \"thick\",\n",
    "    \"toppings\" : [\"mushrooms\" , \"extra cheese\"]\n",
    "}\n",
    "pizza"
   ]
  },
  {
   "cell_type": "code",
   "execution_count": 46,
   "metadata": {},
   "outputs": [
    {
     "name": "stdout",
     "output_type": "stream",
     "text": [
      "You ordered a thick-crust pizza with the following toppings:\n"
     ]
    }
   ],
   "source": [
    "print(\"You ordered a \" + pizza['crust'] + \"-crust pizza \" +    \"with the following toppings:\")"
   ]
  },
  {
   "cell_type": "code",
   "execution_count": 48,
   "metadata": {},
   "outputs": [
    {
     "name": "stdout",
     "output_type": "stream",
     "text": [
      "\t mushrooms\n",
      "\t extra cheese\n"
     ]
    }
   ],
   "source": [
    "for topping in pizza[\"toppings\"]:\n",
    "    print(\"\\t \" + topping)"
   ]
  },
  {
   "cell_type": "code",
   "execution_count": 54,
   "metadata": {},
   "outputs": [],
   "source": [
    "favorite_languages = {    'jen': ['python', 'ruby'],    \n",
    "                      'sarah': ['c'],    'edward': ['ruby', 'go'],   \n",
    "                      'phil': ['python', 'haskell'],    }\n"
   ]
  },
  {
   "cell_type": "code",
   "execution_count": 56,
   "metadata": {},
   "outputs": [
    {
     "name": "stdout",
     "output_type": "stream",
     "text": [
      "name is : Jen\n",
      "language is : Python\n",
      "language is : Ruby\n",
      "name is : Sarah\n",
      "language is : C\n",
      "name is : Edward\n",
      "language is : Ruby\n",
      "language is : Go\n",
      "name is : Phil\n",
      "language is : Python\n",
      "language is : Haskell\n"
     ]
    }
   ],
   "source": [
    "for name , languages in favorite_languages.items():\n",
    "    print(\"name is : \"+name.title())\n",
    "    for language in languages:\n",
    "        print(\"language is : \"+language.title())"
   ]
  },
  {
   "cell_type": "code",
   "execution_count": 63,
   "metadata": {},
   "outputs": [],
   "source": [
    "users = {    \n",
    "    'aeinstein':\n",
    "                 {        'first': 'albert',       \n",
    "              'last': 'einstein',        'location': 'princeton',  \n",
    "                 },\n",
    "    'mcurie':       \n",
    "            { \n",
    "            'first': 'marie',      \n",
    "           'last': 'curie',        'location': 'paris',  \n",
    "              },\n",
    "}"
   ]
  },
  {
   "cell_type": "code",
   "execution_count": 66,
   "metadata": {},
   "outputs": [
    {
     "name": "stdout",
     "output_type": "stream",
     "text": [
      "\n",
      " username is : aeinstein\n",
      "albert einstein\n",
      "\n",
      " username is : mcurie\n",
      "marie curie\n"
     ]
    }
   ],
   "source": [
    "for username , userinfo in users.items():\n",
    "    print(\"\\n username is : \"+username)\n",
    "    full_name = userinfo['first'] + \" \" + userinfo['last'] \n",
    "    print(full_name)"
   ]
  },
  {
   "cell_type": "code",
   "execution_count": 70,
   "metadata": {},
   "outputs": [],
   "source": [
    "dicofdic = {\n",
    "    \"Saylani\": {\n",
    "            \"smit\" : [\"web\",\"ds\",\"ccna\",\"ai\"],\n",
    "            \"health\" : [\"opd\",\"ot\"],\n",
    "    },\n",
    "    \"University\":\n",
    "    {\n",
    "        \"CS\" : [\"1st\",\"2nd\",\"3rd\",\"4th\"],\n",
    "        \"admin\" : [\"fees\",\"timeable\",\"exams\"]\n",
    "    }\n",
    "}"
   ]
  },
  {
   "cell_type": "markdown",
   "metadata": {},
   "source": [
    "# Dictionary in Dictionary"
   ]
  },
  {
   "cell_type": "code",
   "execution_count": 76,
   "metadata": {},
   "outputs": [
    {
     "name": "stdout",
     "output_type": "stream",
     "text": [
      "True\n"
     ]
    }
   ],
   "source": [
    "for pk,pv in dicofdic.items():\n",
    "    if pk==\"University\":\n",
    "        for uk,uv in dicofdic[pk].items():\n",
    "            if uk == \"admin\":\n",
    "                print(\"exams\" in uv)"
   ]
  },
  {
   "cell_type": "code",
   "execution_count": 77,
   "metadata": {},
   "outputs": [
    {
     "name": "stdout",
     "output_type": "stream",
     "text": [
      "True\n"
     ]
    }
   ],
   "source": [
    "for pk,pv in dicofdic.items():\n",
    "    if pk==\"University\":\n",
    "        for uk,uv in pv.items():\n",
    "            if uk == \"admin\":\n",
    "                print(\"exams\" in uv)"
   ]
  },
  {
   "cell_type": "code",
   "execution_count": null,
   "metadata": {},
   "outputs": [],
   "source": [
    "fav_languages = []\n",
    "for lang in range(4):\n",
    "    fav_lang = input(\"enter favorite language\")\n",
    "    fav_languages.append(fav_lang)\n",
    "    "
   ]
  }
 ],
 "metadata": {
  "kernelspec": {
   "display_name": "Python 3",
   "language": "python",
   "name": "python3"
  },
  "language_info": {
   "codemirror_mode": {
    "name": "ipython",
    "version": 3
   },
   "file_extension": ".py",
   "mimetype": "text/x-python",
   "name": "python",
   "nbconvert_exporter": "python",
   "pygments_lexer": "ipython3",
   "version": "3.7.6"
  }
 },
 "nbformat": 4,
 "nbformat_minor": 4
}

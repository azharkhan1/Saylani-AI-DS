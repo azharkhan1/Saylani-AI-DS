{
 "cells": [
  {
   "cell_type": "code",
   "execution_count": 14,
   "metadata": {},
   "outputs": [
    {
     "name": "stdout",
     "output_type": "stream",
     "text": [
      "nabeel\n",
      "he is our student\n",
      "He is not student\n"
     ]
    }
   ],
   "source": [
    "#over riding parent funtion to child funtion method name same rakhi 2no class may\n",
    "#python may over loading ni hoti hay\n",
    "class Student():\n",
    "    def  __init__(self,name):\n",
    "        self.name=name\n",
    "    def printt(self):\n",
    "        print(self.name)\n",
    "    def Study(self):\n",
    "        print(\"he is our student\")\n",
    "        \n",
    "class Child(Student):\n",
    "    def __init__(self,name):\n",
    "        super().__init__(name)\n",
    "    def Study(self):\n",
    "        print(\"He is not student\")\n",
    "s=Child(\"nabeel\")\n",
    "s.printt()\n",
    "Std=Student(\"nabeel\")\n",
    "Std.Study()\n",
    "s.Study()"
   ]
  },
  {
   "cell_type": "code",
   "execution_count": null,
   "metadata": {},
   "outputs": [],
   "source": [
    "# 9-1. Restaurant: Make a class called Restaurant. The __init__() method for\n",
    "# Restaurant should store two attributes: a restaurant_name and a cuisine_type.\n",
    "# Make a method called describe_restaurant() that prints these two pieces of\n",
    "# information, and a method called open_restaurant() that prints a message indicating that the restaurant is open.\n",
    "# Make an instance called restaurant from your class. Print the two attributes individually, and then call both methods."
   ]
  },
  {
   "cell_type": "code",
   "execution_count": 83,
   "metadata": {},
   "outputs": [],
   "source": [
    "class Resturent():\n",
    "    def __init__(self,restaurant_name,cuisine_type):\n",
    "        self.restaurant_name=restaurant_name\n",
    "        self.cuisine_type=cuisine_type\n",
    "    def describe_restaurant(self):\n",
    "        print(self.restaurant_name + \" \" + self.cuisine_type)\n",
    "    def open_restaurant(self):\n",
    "        print(\"restaurant is open\")\n",
    "        "
   ]
  },
  {
   "cell_type": "code",
   "execution_count": 84,
   "metadata": {},
   "outputs": [],
   "source": [
    "class User():\n",
    "    def __init__(self,name,age,job):\n",
    "        self.name = name\n",
    "        self.age = age\n",
    "        self.job = job\n",
    "    def jobType():\n",
    "        print(\"job type is \" + job)\n",
    "        "
   ]
  },
  {
   "cell_type": "code",
   "execution_count": 85,
   "metadata": {},
   "outputs": [],
   "source": [
    "class Battery():\n",
    "    def __init(self, size ):\n",
    "        self.size = size\n",
    "    def batteryType(self):\n",
    "        print(\"battery size is  \" + size)\n",
    "        "
   ]
  },
  {
   "cell_type": "code",
   "execution_count": 86,
   "metadata": {},
   "outputs": [],
   "source": [
    "class Car(): ##polymorphism \n",
    "    wheels = 4\n",
    "    def __init__(self,model,year,manuf):\n",
    "        self.model = model\n",
    "        self.year = year\n",
    "        self.manuf = manuf\n",
    "    def fillGasTank(self):\n",
    "        print(\"gas tank has been filled\")\n",
    "        \n",
    "\n",
    "class ElectricCar(Car):\n",
    "    def __init__(self,model,year,manuf,battery):\n",
    "        super().__init__(model,year,manuf)\n",
    "    \n",
    "        #object used as an attribute\n",
    "        self.battery = Battery()\n",
    "    def fillGasTank(self):\n",
    "        print(\"electric car does not have gas tank\")\n",
    "    def getBatterySize(self):\n",
    "        print(\"Battery size is \" + battery_size)\n",
    "    def setBatterySize(self , new_size):\n",
    "        self.battery_size = new_size\n",
    "    "
   ]
  },
  {
   "cell_type": "code",
   "execution_count": 87,
   "metadata": {},
   "outputs": [],
   "source": [
    "ecar1 = ElectricCar(\"t1\" , \"2015\" , \"tesla\" , \"67\")"
   ]
  },
  {
   "cell_type": "code",
   "execution_count": 88,
   "metadata": {},
   "outputs": [],
   "source": [
    "ecar1.battery.size = 45"
   ]
  },
  {
   "cell_type": "code",
   "execution_count": 124,
   "metadata": {},
   "outputs": [],
   "source": [
    "class IceCreamStand(Resturent):\n",
    "\n",
    "    def __init__(self , restaurant_name, cuisine_type , flavors):\n",
    "        self.flavors = flavors\n",
    "        super().__init__(restaurant_name , cuisine_type)\n",
    "    def getFlavors(self):\n",
    "        return self.flavors\n",
    "                \n",
    "                        \n"
   ]
  },
  {
   "cell_type": "code",
   "execution_count": 125,
   "metadata": {},
   "outputs": [],
   "source": [
    "peshawar = IceCreamStand(\"PeshawariiceCream\" , \"IceCreams\" , ['hahahaha' , \"bsd\"])"
   ]
  },
  {
   "cell_type": "code",
   "execution_count": 126,
   "metadata": {},
   "outputs": [
    {
     "data": {
      "text/plain": [
       "['hahahaha', 'bsd']"
      ]
     },
     "execution_count": 126,
     "metadata": {},
     "output_type": "execute_result"
    }
   ],
   "source": [
    "peshawar.getFlavors()"
   ]
  },
  {
   "cell_type": "code",
   "execution_count": 138,
   "metadata": {},
   "outputs": [],
   "source": [
    "class Admin(User):\n",
    "    def __init__ (self , name , age , job , prev):\n",
    "        super().__init__(name , age ,job)\n",
    "        self.prev = prev\n",
    "    def showPrev(self):\n",
    "        for item in self.prev:\n",
    "            print(f\"Previlages are {item} \\n\")"
   ]
  },
  {
   "cell_type": "code",
   "execution_count": 139,
   "metadata": {},
   "outputs": [],
   "source": [
    "azhar = Admin(\"azhar\" , \"23\" , \"Cashier\" , [\"Funny \" , \" can do anything\"])"
   ]
  },
  {
   "cell_type": "code",
   "execution_count": 140,
   "metadata": {},
   "outputs": [
    {
     "name": "stdout",
     "output_type": "stream",
     "text": [
      "Previlages are Funny  \n",
      "\n",
      "Previlages are  can do anything \n",
      "\n"
     ]
    }
   ],
   "source": [
    "azhar.showPrev()"
   ]
  },
  {
   "cell_type": "code",
   "execution_count": null,
   "metadata": {},
   "outputs": [],
   "source": []
  }
 ],
 "metadata": {
  "kernelspec": {
   "display_name": "Python 3",
   "language": "python",
   "name": "python3"
  },
  "language_info": {
   "codemirror_mode": {
    "name": "ipython",
    "version": 3
   },
   "file_extension": ".py",
   "mimetype": "text/x-python",
   "name": "python",
   "nbconvert_exporter": "python",
   "pygments_lexer": "ipython3",
   "version": "3.8.5"
  }
 },
 "nbformat": 4,
 "nbformat_minor": 4
}

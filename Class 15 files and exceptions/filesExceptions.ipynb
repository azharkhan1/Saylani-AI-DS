{
 "cells": [
  {
   "cell_type": "code",
   "execution_count": 10,
   "metadata": {},
   "outputs": [],
   "source": [
    "%run car.py"
   ]
  },
  {
   "cell_type": "code",
   "execution_count": 13,
   "metadata": {},
   "outputs": [],
   "source": [
    "from car import Car"
   ]
  },
  {
   "cell_type": "code",
   "execution_count": 14,
   "metadata": {},
   "outputs": [
    {
     "name": "stdout",
     "output_type": "stream",
     "text": [
      "2016 Audi A4\n"
     ]
    }
   ],
   "source": [
    "my_new_car = Car('audi', 'a4', 2016)\n",
    "print(my_new_car.get_descriptive_name())"
   ]
  },
  {
   "cell_type": "markdown",
   "metadata": {},
   "source": [
    "# Files and exceptions\n",
    "-Read\n",
    "-write-\n",
    "-append\n",
    "-write+\n",
    "-read+\n",
    "-binary\n",
    "# by default read mode"
   ]
  },
  {
   "cell_type": "code",
   "execution_count": 17,
   "metadata": {},
   "outputs": [],
   "source": [
    "with open(\"car.py\") as f:\n",
    "    content = f.read()"
   ]
  },
  {
   "cell_type": "code",
   "execution_count": 36,
   "metadata": {},
   "outputs": [
    {
     "name": "stdout",
     "output_type": "stream",
     "text": [
      "class Car():\n",
      "\n"
     ]
    }
   ],
   "source": [
    "try:\n",
    "    with open(\"car.py\") as f:\n",
    "        cont = f.readline()\n",
    "        print(cont)\n",
    "except FileNotFoundError:\n",
    "        print(\"theres no such file\")\n"
   ]
  },
  {
   "cell_type": "code",
   "execution_count": 65,
   "metadata": {},
   "outputs": [
    {
     "name": "stdout",
     "output_type": "stream",
     "text": [
      "s\n",
      "class Car():\n",
      "    def __init__(self, make, model, year):\n",
      "        self.make = make\n",
      "        self.model = model\n",
      "        self.year = year\n",
      "        self.odometer_reading = 0\n",
      "    def get_descriptive_name(self):\n",
      "        long_name = str(self.year) + ' ' + self.make + ' ' + self.model\n",
      "        return long_name.title()\n",
      "    def read_odometer(self):\n",
      "        print(\"This car has \" + str(self.odometer_reading) + \" miles on it.\")\n",
      "    def update_odometer(self, mileage):\n",
      "        if mileage >= self.odometer_reading:\n",
      "            self.odometer_reading = mileage\n",
      "        else:\n",
      "            print(\"You can't roll back an odometer!\")\n",
      "    def increment_odometer(self, miles):\n",
      "        self.odometer_reading += miles\n"
     ]
    }
   ],
   "source": [
    "with open(\"car.py\") as f:\n",
    "    car = f.read()\n",
    "    f.seek(len(car)-1)\n",
    "    car2 = f.read()\n",
    "\n",
    "print(car2)\n",
    "print(car)"
   ]
  },
  {
   "cell_type": "code",
   "execution_count": 79,
   "metadata": {},
   "outputs": [],
   "source": [
    "with open(\"myTxt\" , \"w\") as w:\n",
    "          w.writelines(\"i am in write mood hahaha\")\n",
    "          w.writelines(\"i am in write mood hahaha\")                           "
   ]
  },
  {
   "cell_type": "code",
   "execution_count": 90,
   "metadata": {},
   "outputs": [
    {
     "name": "stdout",
     "output_type": "stream",
     "text": [
      "6\n",
      "hahaha\n"
     ]
    }
   ],
   "source": [
    "with open(\"myTxt\" , \"w+\") as w:\n",
    "    myCont = w.write(\"hahaha\")\n",
    "    w.seek(0)\n",
    "    cs = w.read()\n",
    "    \n",
    "print(myCont)\n",
    "print(cs)"
   ]
  },
  {
   "cell_type": "code",
   "execution_count": 91,
   "metadata": {},
   "outputs": [
    {
     "ename": "FileNotFoundError",
     "evalue": "[Errno 2] No such file or directory: 'myTXTr+'",
     "output_type": "error",
     "traceback": [
      "\u001b[1;31m---------------------------------------------------------------------------\u001b[0m",
      "\u001b[1;31mFileNotFoundError\u001b[0m                         Traceback (most recent call last)",
      "\u001b[1;32m<ipython-input-91-d8f4e9e3a3ee>\u001b[0m in \u001b[0;36m<module>\u001b[1;34m\u001b[0m\n\u001b[1;32m----> 1\u001b[1;33m \u001b[1;32mwith\u001b[0m \u001b[0mopen\u001b[0m\u001b[1;33m(\u001b[0m\u001b[1;34m\"myTXT\"\u001b[0m \u001b[1;34m\"r+\"\u001b[0m\u001b[1;33m)\u001b[0m \u001b[1;32mas\u001b[0m \u001b[0mh\u001b[0m\u001b[1;33m:\u001b[0m\u001b[1;33m\u001b[0m\u001b[1;33m\u001b[0m\u001b[0m\n\u001b[0m\u001b[0;32m      2\u001b[0m     \u001b[0mh\u001b[0m\u001b[1;33m.\u001b[0m\u001b[0mwrite\u001b[0m\u001b[1;33m(\u001b[0m\u001b[1;34m\"haha\"\u001b[0m\u001b[1;33m)\u001b[0m\u001b[1;33m\u001b[0m\u001b[1;33m\u001b[0m\u001b[0m\n",
      "\u001b[1;31mFileNotFoundError\u001b[0m: [Errno 2] No such file or directory: 'myTXTr+'"
     ]
    }
   ],
   "source": [
    "with open(\"myTXT\" \"r+\") as h: #file is ncessary\n",
    "    h.write(\"haha\")"
   ]
  },
  {
   "cell_type": "code",
   "execution_count": 117,
   "metadata": {
    "scrolled": false
   },
   "outputs": [],
   "source": [
    "f=open(\"binfile.bin\",\"wb\")\n",
    "num=[5, 10, 15, 20, 25]\n",
    "arr=bytearray(num)\n",
    "f.write(arr)\n",
    "f.close()"
   ]
  },
  {
   "cell_type": "code",
   "execution_count": 119,
   "metadata": {},
   "outputs": [
    {
     "name": "stdout",
     "output_type": "stream",
     "text": [
      "b'\\x05\\n\\x0f\\x14\\x19'\n"
     ]
    }
   ],
   "source": [
    "f=open(\"binfile.bin\",\"rb\")\n",
    "num=[5, 10, 15, 20, 25]\n",
    "content = f.read()\n",
    "print(content)\n",
    "f.close()"
   ]
  },
  {
   "cell_type": "code",
   "execution_count": null,
   "metadata": {},
   "outputs": [],
   "source": []
  },
  {
   "cell_type": "code",
   "execution_count": null,
   "metadata": {},
   "outputs": [],
   "source": []
  },
  {
   "cell_type": "code",
   "execution_count": null,
   "metadata": {},
   "outputs": [],
   "source": []
  }
 ],
 "metadata": {
  "kernelspec": {
   "display_name": "Python 3",
   "language": "python",
   "name": "python3"
  },
  "language_info": {
   "codemirror_mode": {
    "name": "ipython",
    "version": 3
   },
   "file_extension": ".py",
   "mimetype": "text/x-python",
   "name": "python",
   "nbconvert_exporter": "python",
   "pygments_lexer": "ipython3",
   "version": "3.8.5"
  }
 },
 "nbformat": 4,
 "nbformat_minor": 4
}

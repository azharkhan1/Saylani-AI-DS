{
 "cells": [
  {
   "cell_type": "code",
   "execution_count": 2,
   "metadata": {},
   "outputs": [],
   "source": [
    "unprinted_designs = [\"iphone case\" , \"robot pendent\" , \"sohaib design\"]"
   ]
  },
  {
   "cell_type": "code",
   "execution_count": 7,
   "metadata": {},
   "outputs": [
    {
     "name": "stdout",
     "output_type": "stream",
     "text": [
      "[9, 1, 1, 4]\n"
     ]
    }
   ],
   "source": [
    "num = [9,1]\n",
    "def a(x):\n",
    "    x = x+[1,4]\n",
    "    print(x)\n",
    "a(num)"
   ]
  },
  {
   "cell_type": "code",
   "execution_count": 9,
   "metadata": {},
   "outputs": [
    {
     "name": "stdout",
     "output_type": "stream",
     "text": [
      "[9, 1, 1, 4]\n"
     ]
    },
    {
     "data": {
      "text/plain": [
       "[9, 1]"
      ]
     },
     "execution_count": 9,
     "metadata": {},
     "output_type": "execute_result"
    }
   ],
   "source": [
    "def b(x):\n",
    "    x = num.pop()\n",
    "    print(x)\n",
    "a(num[:]) #this is used for copying list\n",
    "num"
   ]
  },
  {
   "cell_type": "code",
   "execution_count": 10,
   "metadata": {},
   "outputs": [
    {
     "name": "stdout",
     "output_type": "stream",
     "text": [
      "Our magician is Sir Inzamam Malik\n",
      "Our magician is Azhar\n",
      "Our magician is Sohaib\n"
     ]
    }
   ],
   "source": [
    "magicians_names = [\"Sir Inzamam Malik\",\"Azhar\",\"Sohaib\"]\n",
    "def showMagicians(magicians):\n",
    "    for magician in magicians:\n",
    "        print(f\"Our magician is {magician}\")\n",
    "showMagicians(magicians_names)"
   ]
  },
  {
   "cell_type": "code",
   "execution_count": 35,
   "metadata": {},
   "outputs": [
    {
     "data": {
      "text/plain": [
       "['would make a great magicianSir Inzamam Malik',\n",
       " 'would make a great magicianAzhar',\n",
       " 'would make a great magicianSohaib']"
      ]
     },
     "execution_count": 35,
     "metadata": {},
     "output_type": "execute_result"
    }
   ],
   "source": [
    "def make_great(magician_names):\n",
    "    for magician in range (len(magicians_names)):\n",
    "        magician_names[magician] = \"would make a great magician\" + magician_names[magician]\n",
    "    return (magician_names)\n",
    "make_great(magicians_names[:])\n",
    "\n"
   ]
  },
  {
   "cell_type": "code",
   "execution_count": 37,
   "metadata": {},
   "outputs": [
    {
     "data": {
      "text/plain": [
       "['would make a great magicianSir Inzamam Malik',\n",
       " 'would make a great magicianAzhar',\n",
       " 'would make a great magicianSohaib']"
      ]
     },
     "execution_count": 37,
     "metadata": {},
     "output_type": "execute_result"
    }
   ],
   "source": [
    "myFavList = make_great(magicians_names[:])\n",
    "myFavList"
   ]
  },
  {
   "cell_type": "code",
   "execution_count": 38,
   "metadata": {},
   "outputs": [
    {
     "name": "stdout",
     "output_type": "stream",
     "text": [
      "('haha',)\n"
     ]
    }
   ],
   "source": [
    "# if someone wants to pass multiple argument in single passing argument of function\n",
    "def make_pizza(*toppings):\n",
    "    \"\"\"print the list of toppings that have been requested\"\"\"\n",
    "    print(toppings)\n",
    "make_pizza(\"haha\")"
   ]
  },
  {
   "cell_type": "code",
   "execution_count": 40,
   "metadata": {},
   "outputs": [
    {
     "name": "stdout",
     "output_type": "stream",
     "text": [
      "('haha', 'myTop')\n"
     ]
    }
   ],
   "source": [
    "def new(*toppings):\n",
    "    \"\"\"print the list of toppings that have been requested\"\"\"\n",
    "    for topping in toppings:\n",
    "        print(\"requested toppings are \"+topping)\n",
    "make_pizza(\"haha\",\"myTop\")"
   ]
  },
  {
   "cell_type": "code",
   "execution_count": 42,
   "metadata": {},
   "outputs": [
    {
     "name": "stdout",
     "output_type": "stream",
     "text": [
      "requested toppings are myTop and size is 14\n",
      "requested toppings are hat be and size is 14\n"
     ]
    }
   ],
   "source": [
    "def sizeWithToppings(size,*toppings):\n",
    "    \"\"\"print the list of toppings that have been requested\"\"\"\n",
    "    for topping in toppings:\n",
    "        print(f\"requested toppings are {topping} and size is {size}\")\n",
    "sizeWithToppings(14,\"myTop\",\"hat be\")"
   ]
  },
  {
   "cell_type": "code",
   "execution_count": 45,
   "metadata": {},
   "outputs": [
    {
     "name": "stdout",
     "output_type": "stream",
     "text": [
      "{'first_name': 'albert', 'last_name': 'einstein', 'location': 'princeton', 'field': 'physics'}\n"
     ]
    }
   ],
   "source": [
    "def build_profile(first, last, **user_info): ##double staric for key values dictionaries\n",
    "    \n",
    "    \"\"\"Build a dictionary containing everything we know about a user.\"\"\"\n",
    "    profile = {}\n",
    "    profile['first_name'] = first\n",
    "    profile['last_name'] = last\n",
    "    for key, value in user_info.items(): \n",
    "        profile[key] = value\n",
    "    return profile\n",
    "        \n",
    "user_profile = build_profile('albert', 'einstein',\n",
    " location='princeton',\n",
    " field='physics')\n",
    "print(user_profile)"
   ]
  },
  {
   "cell_type": "code",
   "execution_count": 63,
   "metadata": {},
   "outputs": [
    {
     "name": "stdout",
     "output_type": "stream",
     "text": [
      "I like this sandwich ('vag',)\n",
      "I like this sandwich ('chicken',)\n",
      "I like this sandwich ('vag plus chicken',)\n"
     ]
    }
   ],
   "source": [
    "def sandwich(*sandwich):\n",
    "    \"\"\"print the list of toppings that have been requested\"\"\"\n",
    "    return str(sandwich)\n",
    "print(\"I like this sandwich \" + sandwich(\"vag\"))\n",
    "print(\"I like this sandwich \" + sandwich(\"chicken\"))\n",
    "print(\"I like this sandwich \" + sandwich(\"vag plus chicken\"))\n"
   ]
  },
  {
   "cell_type": "code",
   "execution_count": 71,
   "metadata": {},
   "outputs": [
    {
     "name": "stdout",
     "output_type": "stream",
     "text": [
      "['Chicken choice', 'vag choice', 'chicken plus vag choice']\n"
     ]
    }
   ],
   "source": [
    "def newSandwich(*sandwiches):\n",
    "    myList = []\n",
    "    for sandwich in sandwiches:\n",
    "        myList.append(sandwich +\" \"+ \"choice\")\n",
    "    return myList\n",
    "\n",
    "print(newSandwich(\"Chicken\",\"vag\",\"chicken plus vag\"))\n",
    "    "
   ]
  },
  {
   "cell_type": "code",
   "execution_count": 75,
   "metadata": {},
   "outputs": [],
   "source": [
    "def myProfileFB(name  , age , **details):\n",
    "    userProfile = {}\n",
    "    userProfile[\"name\"] = name\n",
    "    userProfile[\"age\"] = age\n",
    "    for key , value in details.item():\n",
    "        userProfile[key] = value\n",
    "    return userProfile"
   ]
  },
  {
   "cell_type": "code",
   "execution_count": null,
   "metadata": {},
   "outputs": [],
   "source": [
    "# %run myModule.py"
   ]
  },
  {
   "cell_type": "code",
   "execution_count": 77,
   "metadata": {},
   "outputs": [],
   "source": [
    "import myModule"
   ]
  },
  {
   "cell_type": "code",
   "execution_count": 78,
   "metadata": {},
   "outputs": [
    {
     "data": {
      "text/plain": [
       "1"
      ]
     },
     "execution_count": 78,
     "metadata": {},
     "output_type": "execute_result"
    }
   ],
   "source": [
    "myModule.word_count(\"AHAHAHAH\")"
   ]
  },
  {
   "cell_type": "code",
   "execution_count": 79,
   "metadata": {},
   "outputs": [
    {
     "data": {
      "text/plain": [
       "3"
      ]
     },
     "execution_count": 79,
     "metadata": {},
     "output_type": "execute_result"
    }
   ],
   "source": [
    "myModule.word_count(\"ALAKA MAKAVA HAHAH\")"
   ]
  },
  {
   "cell_type": "code",
   "execution_count": 80,
   "metadata": {},
   "outputs": [
    {
     "data": {
      "text/plain": [
       "18"
      ]
     },
     "execution_count": 80,
     "metadata": {},
     "output_type": "execute_result"
    }
   ],
   "source": [
    "myModule.charCount(\"ALAKA MAKAVA HAHAH\")"
   ]
  },
  {
   "cell_type": "markdown",
   "metadata": {},
   "source": [
    "# Punctuations remove, punctuations count, additional space will be removed"
   ]
  }
 ],
 "metadata": {
  "kernelspec": {
   "display_name": "Python 3",
   "language": "python",
   "name": "python3"
  },
  "language_info": {
   "codemirror_mode": {
    "name": "ipython",
    "version": 3
   },
   "file_extension": ".py",
   "mimetype": "text/x-python",
   "name": "python",
   "nbconvert_exporter": "python",
   "pygments_lexer": "ipython3",
   "version": "3.8.5"
  }
 },
 "nbformat": 4,
 "nbformat_minor": 4
}

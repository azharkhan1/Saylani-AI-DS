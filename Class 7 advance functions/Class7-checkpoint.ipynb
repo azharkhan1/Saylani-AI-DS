{
 "cells": [
  {
   "cell_type": "code",
   "execution_count": 12,
   "metadata": {},
   "outputs": [],
   "source": [
    "global fullname \n",
    "def fullName():\n",
    "    firstName = input(\"input first name\")\n",
    "    lastName = input(\"enter last name\")\n",
    "    myName = f\"{firstName} {lastName}\"\n",
    "    return myName"
   ]
  },
  {
   "cell_type": "code",
   "execution_count": 14,
   "metadata": {},
   "outputs": [
    {
     "name": "stdout",
     "output_type": "stream",
     "text": [
      "input first nameazhar\n",
      "enter last namekhan\n"
     ]
    },
    {
     "data": {
      "text/plain": [
       "'azhar khan'"
      ]
     },
     "execution_count": 14,
     "metadata": {},
     "output_type": "execute_result"
    }
   ],
   "source": [
    "myName = fullName()\n",
    "myName"
   ]
  },
  {
   "cell_type": "code",
   "execution_count": 27,
   "metadata": {},
   "outputs": [
    {
     "name": "stdout",
     "output_type": "stream",
     "text": [
      "sum1==>6\n",
      "sum2=> 14\n"
     ]
    }
   ],
   "source": [
    "def sumNum(num1=0,num2=0):\n",
    "    \"\"\"I made this function in DS AND AI class it takes 2 parameters in function\"\"\" # documentation of your function\n",
    "    sum = num1+num2\n",
    "    return sum\n",
    "print(\"sum1==>\"+str(sumNum(2,4))) #Positional Argument\n",
    "print(\"sum2=> \"+str(sumNum(num1=9,num2=5))) #keyword argument , both can be together"
   ]
  },
  {
   "cell_type": "code",
   "execution_count": 1,
   "metadata": {},
   "outputs": [],
   "source": [
    "def calculateSalary(salary=0,incomeTax=0):\n",
    "    \"\"\"This function takes two argument one of salary and second of income tax\"\"\"\n",
    "    salaryCalculation = salary * (incomeTax/100)\n",
    "    salary = salary - salaryCalculation\n",
    "    return salary"
   ]
  },
  {
   "cell_type": "code",
   "execution_count": 63,
   "metadata": {},
   "outputs": [],
   "source": [
    "def userSalary(salary):\n",
    "    return salary\n"
   ]
  },
  {
   "cell_type": "code",
   "execution_count": 72,
   "metadata": {},
   "outputs": [
    {
     "name": "stdout",
     "output_type": "stream",
     "text": [
      "enter salary15000\n"
     ]
    },
    {
     "data": {
      "text/plain": [
       "14250.0"
      ]
     },
     "execution_count": 72,
     "metadata": {},
     "output_type": "execute_result"
    }
   ],
   "source": [
    "def analyseSalary():\n",
    "    salary = int(input(\"enter salary\"))\n",
    "    salary = int(userSalary(salary))\n",
    "    tax = 0\n",
    "    if salary>10000:\n",
    "        tax = 5\n",
    "        return calculateSalary(salary,tax)\n",
    "    elif(salary>15000):\n",
    "        tax = 10\n",
    "        return calculateSalary(salary,tax)\n",
    "    elif salary<=10000:\n",
    "        tax = 0\n",
    "        return calculateSalary(salary,tax)\n",
    "    \n",
    "analyseSalary()"
   ]
  },
  {
   "cell_type": "code",
   "execution_count": 74,
   "metadata": {},
   "outputs": [],
   "source": [
    "def calculateComission(salary=0,comission=0):\n",
    "    \"\"\"This function takes two argument one of salary and second of comission\"\"\"\n",
    "    salaryCalculation = salary * (comission/100)\n",
    "    salary = salary + salaryCalculation\n",
    "    return salary"
   ]
  },
  {
   "cell_type": "code",
   "execution_count": 75,
   "metadata": {},
   "outputs": [],
   "source": [
    "def analyseComission():\n",
    "    salary = int(input(\"enter salary\"))\n",
    "    salary = int(userSalary(salary))\n",
    "    comission = 0\n",
    "    if salary>10000:\n",
    "        comission = 5\n",
    "        return calculateComission(salary,comission)\n",
    "    elif(salary>15000):\n",
    "        comission = 10\n",
    "        return calculateComission(salary,comission)\n",
    "    elif salary<=10000:\n",
    "        comission = 0\n",
    "        return calculateComission(salary,comission)"
   ]
  },
  {
   "cell_type": "code",
   "execution_count": 77,
   "metadata": {},
   "outputs": [
    {
     "name": "stdout",
     "output_type": "stream",
     "text": [
      "enter salary11000\n"
     ]
    },
    {
     "data": {
      "text/plain": [
       "11550.0"
      ]
     },
     "execution_count": 77,
     "metadata": {},
     "output_type": "execute_result"
    }
   ],
   "source": [
    "analyseComission()"
   ]
  },
  {
   "cell_type": "code",
   "execution_count": null,
   "metadata": {},
   "outputs": [],
   "source": []
  }
 ],
 "metadata": {
  "kernelspec": {
   "display_name": "Python 3",
   "language": "python",
   "name": "python3"
  },
  "language_info": {
   "codemirror_mode": {
    "name": "ipython",
    "version": 3
   },
   "file_extension": ".py",
   "mimetype": "text/x-python",
   "name": "python",
   "nbconvert_exporter": "python",
   "pygments_lexer": "ipython3",
   "version": "3.8.5"
  }
 },
 "nbformat": 4,
 "nbformat_minor": 4
}

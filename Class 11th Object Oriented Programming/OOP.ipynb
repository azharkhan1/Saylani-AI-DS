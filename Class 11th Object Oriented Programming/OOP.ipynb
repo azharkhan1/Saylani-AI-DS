{
 "cells": [
  {
   "cell_type": "code",
   "execution_count": 28,
   "metadata": {},
   "outputs": [],
   "source": [
    "#pass = > it wont show any error if class doesnt have any body init\n",
    "#self is reference of object\n",
    "class Computer():\n",
    "      def __init__(self , processor , ram , drive): #initializor / constructor\n",
    "            self.manufacturer = \"Leonovo\" # Variables are properties \n",
    "            self.model =2q \"Ideapad3305\"   #Variables are properties\n",
    "            self.processor = processor\n",
    "            self.ram = ram\n",
    "            self.drive = drive\n",
    "            print (\"I am constructor. Object is created\")\n",
    "      #Behaviours\n",
    "      def showConfiguration(self): # when we make copy of Computer class, eachtime self has different value containing different values\n",
    "           # print(\"15\" , \"16GB\" , \"1TB\")\n",
    "           print(f\"Drive : {self.drive} Processor : {self.processor} Ram: {self.ram}\")\n",
    "      "
   ]
  },
  {
   "cell_type": "code",
   "execution_count": 13,
   "metadata": {},
   "outputs": [
    {
     "name": "stdout",
     "output_type": "stream",
     "text": [
      "I am constructor. Object is created\n"
     ]
    },
    {
     "data": {
      "text/plain": [
       "'Leonovo'"
      ]
     },
     "execution_count": 13,
     "metadata": {},
     "output_type": "execute_result"
    }
   ],
   "source": [
    "Computer().manufacturer \n"
   ]
  },
  {
   "cell_type": "code",
   "execution_count": 15,
   "metadata": {},
   "outputs": [
    {
     "name": "stdout",
     "output_type": "stream",
     "text": [
      "I am constructor. Object is created\n",
      "15 16GB 1TB\n"
     ]
    }
   ],
   "source": [
    "computer1  = Computer()\n",
    "computer1.showConfiguration()"
   ]
  },
  {
   "cell_type": "code",
   "execution_count": 25,
   "metadata": {},
   "outputs": [
    {
     "name": "stdout",
     "output_type": "stream",
     "text": [
      "I am constructor. Object is created\n"
     ]
    },
    {
     "data": {
      "text/plain": [
       "'Leonovo'"
      ]
     },
     "execution_count": 25,
     "metadata": {},
     "output_type": "execute_result"
    }
   ],
   "source": [
    "computer2 = Computer()\n",
    "computer2.manufacturer"
   ]
  },
  {
   "cell_type": "code",
   "execution_count": 26,
   "metadata": {},
   "outputs": [
    {
     "name": "stdout",
     "output_type": "stream",
     "text": [
      "15 16GB 1TB\n"
     ]
    }
   ],
   "source": [
    "computer2.showConfiguration()"
   ]
  },
  {
   "cell_type": "code",
   "execution_count": 27,
   "metadata": {},
   "outputs": [
    {
     "data": {
      "text/plain": [
       "'Ideapad3305'"
      ]
     },
     "execution_count": 27,
     "metadata": {},
     "output_type": "execute_result"
    }
   ],
   "source": [
    "computer2.model\n"
   ]
  },
  {
   "cell_type": "code",
   "execution_count": 30,
   "metadata": {},
   "outputs": [
    {
     "name": "stdout",
     "output_type": "stream",
     "text": [
      "I am constructor. Object is created\n"
     ]
    }
   ],
   "source": [
    "computer3 = Computer(\"3.4GHZ\" , \"16GB\" , \"1TB\")"
   ]
  },
  {
   "cell_type": "code",
   "execution_count": 31,
   "metadata": {},
   "outputs": [
    {
     "data": {
      "text/plain": [
       "'Leonovo'"
      ]
     },
     "execution_count": 31,
     "metadata": {},
     "output_type": "execute_result"
    }
   ],
   "source": [
    "computer3.manufacturer\n"
   ]
  },
  {
   "cell_type": "code",
   "execution_count": 32,
   "metadata": {},
   "outputs": [
    {
     "name": "stdout",
     "output_type": "stream",
     "text": [
      "Drive : 1TB Processor : 3.4GHZ Ram: 16GB\n"
     ]
    }
   ],
   "source": [
    "computer3.showConfiguration()"
   ]
  },
  {
   "cell_type": "code",
   "execution_count": 34,
   "metadata": {},
   "outputs": [
    {
     "name": "stdout",
     "output_type": "stream",
     "text": [
      "Drive : 1TB Processor : 3.4GHZ Ram: 16GB\n"
     ]
    }
   ],
   "source": [
    "Computer.showConfiguration(computer3)"
   ]
  },
  {
   "cell_type": "code",
   "execution_count": null,
   "metadata": {},
   "outputs": [],
   "source": []
  }
 ],
 "metadata": {
  "kernelspec": {
   "display_name": "Python 3",
   "language": "python",
   "name": "python3"
  },
  "language_info": {
   "codemirror_mode": {
    "name": "ipython",
    "version": 3
   },
   "file_extension": ".py",
   "mimetype": "text/x-python",
   "name": "python",
   "nbconvert_exporter": "python",
   "pygments_lexer": "ipython3",
   "version": "3.8.5"
  }
 },
 "nbformat": 4,
 "nbformat_minor": 4
}

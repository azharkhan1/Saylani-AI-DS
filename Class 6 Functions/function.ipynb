py{
 "cells": [
  {
   "cell_type": "markdown",
   "metadata": {},
   "source": [
    "# Functions / Methods / Routines"
   ]
  },
  {
   "cell_type": "code",
   "execution_count": 1,
   "metadata": {},
   "outputs": [],
   "source": [
    "def square(n):\n",
    "    return n**2\n",
    "    "
   ]
  },
  {
   "cell_type": "code",
   "execution_count": 2,
   "metadata": {},
   "outputs": [
    {
     "data": {
      "text/plain": [
       "36"
      ]
     },
     "execution_count": 2,
     "metadata": {},
     "output_type": "execute_result"
    }
   ],
   "source": [
    "square(6)"
   ]
  },
  {
   "cell_type": "code",
   "execution_count": 3,
   "metadata": {},
   "outputs": [
    {
     "name": "stdout",
     "output_type": "stream",
     "text": [
      "enter value number 1 : 4\n",
      "enter value number 2 : 5\n"
     ]
    },
    {
     "data": {
      "text/plain": [
       "'4'"
      ]
     },
     "execution_count": 3,
     "metadata": {},
     "output_type": "execute_result"
    }
   ],
   "source": [
    "def add_numbers():\n",
    "    n1 = input (\"enter value number 1 : \")\n",
    "    n2 = input (\"enter value number 2 : \")\n",
    "    sum = int(n1) + int(n2)\n",
    "    return n1\n",
    "add_numbers()"
   ]
  },
  {
   "cell_type": "code",
   "execution_count": 4,
   "metadata": {},
   "outputs": [],
   "source": [
    "b = []\n",
    "def maxnum():\n",
    "    for x in range(0,5):\n",
    "        a = int(input(\"Enter the number : \"))\n",
    "        b.append(a)\n",
    "    print(b)\n",
    "    print('The maximum number is :'+str(max(b)))\n",
    "        "
   ]
  },
  {
   "cell_type": "code",
   "execution_count": 5,
   "metadata": {},
   "outputs": [
    {
     "name": "stdout",
     "output_type": "stream",
     "text": [
      "Enter the number : 5\n",
      "Enter the number : 5\n",
      "Enter the number : 25\n",
      "Enter the number : 2\n",
      "Enter the number : 2\n",
      "[5, 5, 25, 2, 2]\n",
      "The maximum number is :25\n"
     ]
    }
   ],
   "source": [
    "maxnum()"
   ]
  },
  {
   "cell_type": "code",
   "execution_count": 8,
   "metadata": {},
   "outputs": [],
   "source": [
    "def findMaxno():\n",
    "    ans = input(\"Enter nos. (comma setp)\").split(\",\")\n",
    "    return max([int(x) for x in ans])\n"
   ]
  },
  {
   "cell_type": "code",
   "execution_count": 9,
   "metadata": {},
   "outputs": [
    {
     "name": "stdout",
     "output_type": "stream",
     "text": [
      "Enter nos. (comma setp)4\n"
     ]
    },
    {
     "data": {
      "text/plain": [
       "4"
      ]
     },
     "execution_count": 9,
     "metadata": {},
     "output_type": "execute_result"
    }
   ],
   "source": [
    "findMaxno()"
   ]
  },
  {
   "cell_type": "code",
   "execution_count": 14,
   "metadata": {},
   "outputs": [
    {
     "name": "stdout",
     "output_type": "stream",
     "text": [
      "Enter number8\n",
      "Number is even : True\n"
     ]
    }
   ],
   "source": [
    "flag = False\n",
    "def checkEven():\n",
    "    num = int(input(\"Enter number\"))\n",
    "    if (num%2==0):\n",
    "        flag = True\n",
    "        return flag\n",
    "         \n",
    "    else:\n",
    "        return flag\n",
    "print('Number is even : '+str(checkEven()))\n",
    "        \n",
    "    "
   ]
  },
  {
   "cell_type": "code",
   "execution_count": 17,
   "metadata": {},
   "outputs": [
    {
     "name": "stdout",
     "output_type": "stream",
     "text": [
      "enter num99\n",
      "number and value is equal\n"
     ]
    }
   ],
   "source": [
    "myValue = 99\n",
    "def checkmyValue():\n",
    "    num = int(input(\"enter num\"))\n",
    "    if (num==myValue):\n",
    "        print(\"number and value is equal\")\n",
    "    elif(num>myValue):\n",
    "        print(\"number is greater than my value\")\n",
    "    elif(num<myValue):\n",
    "        print(\"number is less than my value\")\n",
    "checkmyValue()\n",
    "\n",
    "        "
   ]
  },
  {
   "cell_type": "code",
   "execution_count": 11,
   "metadata": {},
   "outputs": [
    {
     "name": "stdout",
     "output_type": "stream",
     "text": [
      "Enter paid if you have paid fee, unpaid if you have notpaid\n",
      "Enter True if you have admit card , False if you have nottrue\n",
      "you are allowed to give exam\n"
     ]
    }
   ],
   "source": [
    "def examValidation():\n",
    "    checkFee = input(\"Enter paid if you have paid fee, unpaid if you have not\").title()\n",
    "    admitCard = input(\"Enter True if you have admit card , False if you have not\").title()\n",
    "    if checkFee=='Paid' and admitCard=='True':\n",
    "        print(\"you are allowed to give exam\")\n",
    "    else:\n",
    "        print(\"you are not allowed to give exam\")\n",
    "examValidation()"
   ]
  },
  {
   "cell_type": "code",
   "execution_count": 25,
   "metadata": {},
   "outputs": [
    {
     "name": "stdout",
     "output_type": "stream",
     "text": [
      "Enter number to check or 'q' to quitq\n"
     ]
    }
   ],
   "source": [
    "def checkEven():\n",
    "    flag = True\n",
    "    while(flag==True):\n",
    "        num = (input(\"Enter number to check or 'q' to quit\"))\n",
    "        if (num==\"q\"):\n",
    "            flag = False\n",
    "        elif(int(num)%2==0):\n",
    "            print(\"it is even\")\n",
    "checkEven()"
   ]
  },
  {
   "cell_type": "code",
   "execution_count": 21,
   "metadata": {},
   "outputs": [
    {
     "data": {
      "text/plain": [
       "False"
      ]
     },
     "execution_count": 21,
     "metadata": {},
     "output_type": "execute_result"
    }
   ],
   "source": [
    "a = True\n",
    "b = False\n",
    "a and b"
   ]
  },
  {
   "cell_type": "code",
   "execution_count": 20,
   "metadata": {},
   "outputs": [
    {
     "name": "stdout",
     "output_type": "stream",
     "text": [
      "enter true/false \n",
      "true\n",
      "enter true/falsefalse\n"
     ]
    },
    {
     "data": {
      "text/plain": [
       "True"
      ]
     },
     "execution_count": 20,
     "metadata": {},
     "output_type": "execute_result"
    }
   ],
   "source": [
    "a = bool(input(\"enter true/false \\n\").title())\n",
    "b - bool(input(\"enter true/false\").title())\n",
    "a and b"
   ]
  },
  {
   "cell_type": "code",
   "execution_count": null,
   "metadata": {},
   "outputs": [],
   "source": []
  }
 ],
 "metadata": {
  "kernelspec": {
   "display_name": "Python 3",
   "language": "python",
   "name": "python3"
  },
  "language_info": {
   "codemirror_mode": {
    "name": "ipython",
    "version": 3
   },
   "file_extension": ".py",
   "mimetype": "text/x-python",
   "name": "python",
   "nbconvert_exporter": "python",
   "pygments_lexer": "ipython3",
   "version": "3.8.5"
  }
 },
 "nbformat": 4,
 "nbformat_minor": 4
}
